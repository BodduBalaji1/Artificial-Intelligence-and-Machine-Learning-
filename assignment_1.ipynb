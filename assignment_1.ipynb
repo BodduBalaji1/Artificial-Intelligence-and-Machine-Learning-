{
  "nbformat": 4,
  "nbformat_minor": 0,
  "metadata": {
    "colab": {
      "provenance": [],
      "authorship_tag": "ABX9TyMuB5ApYEQlwCcyT0Dvpknw",
      "include_colab_link": true
    },
    "kernelspec": {
      "name": "python3",
      "display_name": "Python 3"
    },
    "language_info": {
      "name": "python"
    }
  },
  "cells": [
    {
      "cell_type": "markdown",
      "metadata": {
        "id": "view-in-github",
        "colab_type": "text"
      },
      "source": [
        "<a href=\"https://colab.research.google.com/github/BodduBalaji1/Artificial-Intelligence-and-Machine-Learning-/blob/main/assignment_1.ipynb\" target=\"_parent\"><img src=\"https://colab.research.google.com/assets/colab-badge.svg\" alt=\"Open In Colab\"/></a>"
      ]
    },
    {
      "cell_type": "code",
      "execution_count": 1,
      "metadata": {
        "id": "ILRcap-pRzNR"
      },
      "outputs": [],
      "source": [
        "# task1-Create two lists and join those two lists"
      ]
    },
    {
      "cell_type": "code",
      "source": [
        "# creating two lists\n",
        "\n",
        "test_list1 =[1,4,5,6,5]\n",
        "test_list2 =[3,5,7,2,5]\n",
        "#using + operator\n",
        "test_list3=test_list1+test_list2\n",
        "# printing concatenated list\n",
        "print (\"concatenated list using + : \" + str(test_list3))"
      ],
      "metadata": {
        "colab": {
          "base_uri": "https://localhost:8080/"
        },
        "id": "jkl4XIyzSQD2",
        "outputId": "4ddccc2c-2321-47e3-eea0-8eabc1dec8ef"
      },
      "execution_count": 1,
      "outputs": [
        {
          "output_type": "stream",
          "name": "stdout",
          "text": [
            "concatenated list using + : [1, 4, 5, 6, 5, 3, 5, 7, 2, 5]\n"
          ]
        }
      ]
    },
    {
      "cell_type": "code",
      "source": [
        "# task 2 : with \"if\" statement find  the even numbers"
      ],
      "metadata": {
        "id": "RDnMY_-USapx"
      },
      "execution_count": null,
      "outputs": []
    },
    {
      "cell_type": "code",
      "source": [
        "sum = int (input(\"enter a number : \"))\n",
        "if(sum%2)==0:\n",
        " print(\"the number is even \")\n",
        "else :\n",
        "  print(\"the number is not even\")"
      ],
      "metadata": {
        "colab": {
          "base_uri": "https://localhost:8080/"
        },
        "id": "J0YpxGD9boEQ",
        "outputId": "58b5d48d-d5a3-43b3-d81d-79cc70171c07"
      },
      "execution_count": 4,
      "outputs": [
        {
          "output_type": "stream",
          "name": "stdout",
          "text": [
            "enter a number : 6\n",
            "the number is even \n"
          ]
        }
      ]
    },
    {
      "cell_type": "code",
      "source": [
        "# Task 3 create a dictionary with 3 keys and 2 values for each key"
      ],
      "metadata": {
        "id": "DenHFicwcKXT"
      },
      "execution_count": null,
      "outputs": []
    },
    {
      "cell_type": "code",
      "source": [
        "# create a dictionary with 3keys\n",
        "# each key has two values\n",
        "demo = {'first': [1,2],\n",
        "        'second':[3,4],\n",
        "        'third':[5,6]}\n",
        "# getting values of a key\n",
        "example=demo['first']\n",
        "print(example)"
      ],
      "metadata": {
        "colab": {
          "base_uri": "https://localhost:8080/"
        },
        "id": "6IzkR6ACcL38",
        "outputId": "3a56e4bc-6049-4f2a-d231-a636e8cc5ddb"
      },
      "execution_count": 5,
      "outputs": [
        {
          "output_type": "stream",
          "name": "stdout",
          "text": [
            "[1, 2]\n"
          ]
        }
      ]
    },
    {
      "cell_type": "code",
      "source": [
        "#  Task 4 create a function with 'if' statement which is used to find the odd numbers"
      ],
      "metadata": {
        "id": "Y-WUwWgQcWn5"
      },
      "execution_count": null,
      "outputs": []
    },
    {
      "cell_type": "code",
      "source": [
        "num=int(input(\"enetr any number :\"))\n",
        "if(num%2)==0:\n",
        "  print(\"{0}is not an odd number\".format(num))\n",
        "else:\n",
        "  print(\"{0} is an odd number\".format(num))"
      ],
      "metadata": {
        "colab": {
          "base_uri": "https://localhost:8080/"
        },
        "id": "F2k7CHxbcf-1",
        "outputId": "2a7daef8-fedb-4d11-a16a-555e2c02af52"
      },
      "execution_count": 7,
      "outputs": [
        {
          "output_type": "stream",
          "name": "stdout",
          "text": [
            "enetr any number :5\n",
            "5 is an odd number\n"
          ]
        }
      ]
    },
    {
      "cell_type": "code",
      "source": [
        "# Task 5 write  apython function with if statement to sum all the numbers in a list\n",
        "# sample list : (8,2,3,0,7)\n",
        "# expected output : 20"
      ],
      "metadata": {
        "id": "l2aMFgHbchuB"
      },
      "execution_count": null,
      "outputs": []
    },
    {
      "cell_type": "code",
      "source": [
        "# Sample list of numbers\n",
        "numbers = [1, 2, 3, 4, 5]\n",
        "\n",
        "# Initialize a variable to store the sum\n",
        "sum_numbers = 0\n",
        "\n",
        "# Iterate through the list and add each number to the sum\n",
        "for num in numbers:\n",
        "    sum_numbers += num\n",
        "\n",
        "# Print the sum\n",
        "print(\"Sum of numbers in the list:\", sum_numbers)"
      ],
      "metadata": {
        "colab": {
          "base_uri": "https://localhost:8080/"
        },
        "id": "HgqVSMZEdD92",
        "outputId": "f95b1f96-e9de-4521-af8d-fb7199eb13b6"
      },
      "execution_count": 6,
      "outputs": [
        {
          "output_type": "stream",
          "name": "stdout",
          "text": [
            "Sum of numbers in the list: 15\n"
          ]
        }
      ]
    }
  ]
}